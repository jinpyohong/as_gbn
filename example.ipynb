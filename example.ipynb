{
 "cells": [
  {
   "cell_type": "markdown",
   "metadata": {},
   "source": [
    "# Python Programming for GBN Implementation\n",
    "## Building Packing with bytearray"
   ]
  },
  {
   "cell_type": "code",
   "execution_count": 1,
   "metadata": {},
   "outputs": [
    {
     "name": "stdout",
     "output_type": "stream",
     "text": [
      "bytearray(b'aBcdefg')\n",
      "66\n",
      "bytearray(b'Bcdefg')\n"
     ]
    }
   ],
   "source": [
    "a = bytes(b'abcdedg')     # immutable\n",
    "b = bytearray(b'abcdefg') # mutable\n",
    "b[1] = 66\n",
    "print(b)\n",
    "print(b[1])               # int\n",
    "print(b[1:])"
   ]
  },
  {
   "cell_type": "code",
   "execution_count": 2,
   "metadata": {},
   "outputs": [
    {
     "name": "stdout",
     "output_type": "stream",
     "text": [
      "bytearray(b'ABCDEFG')\n"
     ]
    }
   ],
   "source": [
    "c = bytearray([65, 66, 67, 68, 69, 70, 71])\n",
    "print(c)"
   ]
  },
  {
   "cell_type": "code",
   "execution_count": 3,
   "metadata": {},
   "outputs": [
    {
     "name": "stdout",
     "output_type": "stream",
     "text": [
      "<class 'bytes'>\n",
      "bytearray(b'\\x01\\x0e\\x00\\x00Hello, world')\n",
      "14\n"
     ]
    }
   ],
   "source": [
    "ACK = 1\n",
    "seq = 14\n",
    "message = 'Hello, world'\n",
    "data = message.encode('utf-8')\n",
    "print(type(data))\n",
    "packet = bytearray([ACK, seq, 0, 0])    # header\n",
    "packet.extend(data)  # just like list\n",
    "print(packet)\n",
    "print(packet[1])"
   ]
  },
  {
   "cell_type": "markdown",
   "metadata": {},
   "source": [
    "## Internet Checksum\n",
    "Packet을 16-bit integer의 열로 봐서 checksum을 계산한다. 보통 header에 checksum field로 16 bit가 할당되어 있다.\n",
    "\n",
    "이 Checksum field를 0으로 clear해 놓고 checksum을 계산한 후 결과를 checksum field에 삽입한다. Checksum이 들어 있는 packet에 대해 다시 checksum을 계산하면 결과는 0. \n",
    "\n",
    "원래 packet의 checksum을 ```sum```이라 하자. Checksum field에 ```sum```을 넣으면 \n",
    "이 만큼 더해진다. 1's complement 연산에서 덧셈은 뺄셈과 같다. 그러므로\n",
    "```Python\n",
    "sum + sum == sum - sum == 0\n",
    "``` "
   ]
  },
  {
   "cell_type": "code",
   "execution_count": 5,
   "metadata": {},
   "outputs": [
    {
     "name": "stdout",
     "output_type": "stream",
     "text": [
      "bytearray(b'\\x01\\x0e\\xde\\xa5Hello, world')\n",
      "0\n"
     ]
    }
   ],
   "source": [
    "from packet import ichecksum\n",
    "\n",
    "checksum = ichecksum(packet)\n",
    "packet[2:4] = bytearray([checksum >> 8, checksum & 0xFF])\n",
    "print(packet)\n",
    "print(ichecksum(packet))"
   ]
  },
  {
   "cell_type": "markdown",
   "metadata": {},
   "source": [
    "## Packet Sequence Number\n",
    "Packet sequence number는 header 내에 하나의 field로 표현해야 한다. 예를 들어, 1 byte로 표현하면 0 ~ 255의 수로만 표현할 수 있다. 255 다음 sequence는 0으로 돌아 와야 한다. 다음과 같은 연산이 가능한 ```Seq```라는 class, 다시 말해, 새로운 data type을 정의해 보자.\n",
    "\n",
    "```Python\n",
    ">>> Seq(255) + Seq(1)\n",
    "Seq(0)\n",
    ">>> Seq(255) + 8\n",
    "Seq(7)\n",
    ">>> Seq(255) < Seq(7)\n",
    "True\n",
    "``` "
   ]
  },
  {
   "cell_type": "code",
   "execution_count": 6,
   "metadata": {},
   "outputs": [
    {
     "name": "stdout",
     "output_type": "stream",
     "text": [
      "253\n",
      "Seq(253)\n",
      "<class 'packet.Seq'>\n"
     ]
    }
   ],
   "source": [
    "from packet import Seq\n",
    "\n",
    "base = Seq(253)        # 'Seq' class instance, i.e. object\n",
    "nextseqnum = Seq(2)    # anothor class instance\n",
    "print(base.seq)        # attribute 'seq' of 'base' object\n",
    "print(base)\n",
    "print(type(base))      # tell the class belongs to"
   ]
  },
  {
   "cell_type": "markdown",
   "metadata": {},
   "source": [
    "#### ```repr, str, print``` functions\n",
    "repr(): calls __repr__ method\n",
    "\n",
    "str(): calls __str__ method\n",
    "- calls __repr__ if __str__ is not defined\n",
    "\n",
    "print(): calls str()"
   ]
  },
  {
   "cell_type": "markdown",
   "metadata": {},
   "source": [
    "### Magic methods\n",
    "미리 정의된 이름이으로 ```__``` 이 앞과 뒤에 붙는다. ```+, -, *, /, ==, <=, ...``` 등의 arithmetic, comparison operator를 사용하여 expression을 기술하면, 해당되는 magic method를 call하게 된다.\n",
    "\n",
    "#### ```int``` function"
   ]
  },
  {
   "cell_type": "code",
   "execution_count": 8,
   "metadata": {},
   "outputs": [
    {
     "name": "stdout",
     "output_type": "stream",
     "text": [
      "253\n",
      "253\n",
      "253\n"
     ]
    }
   ],
   "source": [
    "print(Seq.__int__(base))  # function call stype\n",
    "print(base.__int__())     # invoke method of base object\n",
    "print(int(base))          # int function calls base.__int__()"
   ]
  },
  {
   "cell_type": "markdown",
   "metadata": {},
   "source": [
    "#### Addition\n",
    "\n",
    "```Python\n",
    "seq + n     # forward n steps\n",
    "seq1 + seq2 # TypeError\n",
    "```"
   ]
  },
  {
   "cell_type": "code",
   "execution_count": 13,
   "metadata": {},
   "outputs": [
    {
     "name": "stdout",
     "output_type": "stream",
     "text": [
      "Seq(253)\n",
      "Seq(2)\n",
      "Seq(3)\n"
     ]
    }
   ],
   "source": [
    "print(base)\n",
    "nextseqnum = base + 5\n",
    "print(nextseqnum)\n",
    "nextseqnum += 1\n",
    "print(nextseqnum)"
   ]
  },
  {
   "cell_type": "markdown",
   "metadata": {},
   "source": [
    "#### Comparison"
   ]
  },
  {
   "cell_type": "code",
   "execution_count": 15,
   "metadata": {},
   "outputs": [
    {
     "name": "stdout",
     "output_type": "stream",
     "text": [
      "send it\n",
      "legal ACK\n"
     ]
    }
   ],
   "source": [
    "N = 8\n",
    "if nextseqnum < base + N:\n",
    "    print('send it')\n",
    "else:\n",
    "    print('refuse data')\n",
    "\n",
    "acknum = Seq(254)\n",
    "if base <= acknum < base + N:\n",
    "    print('legal ACK')"
   ]
  },
  {
   "cell_type": "markdown",
   "metadata": {},
   "source": [
    "### Seq range"
   ]
  },
  {
   "cell_type": "code",
   "execution_count": 16,
   "metadata": {},
   "outputs": [
    {
     "name": "stdout",
     "output_type": "stream",
     "text": [
      "Seq(253)\n",
      "Seq(254)\n",
      "Seq(255)\n",
      "Seq(0)\n",
      "Seq(1)\n",
      "Seq(2)\n"
     ]
    }
   ],
   "source": [
    "from packet import srange\n",
    "\n",
    "for s in srange(base, nextseqnum):\n",
    "    print(s)"
   ]
  },
  {
   "cell_type": "markdown",
   "metadata": {},
   "source": [
    "## Handling Packets\n",
    "### Making and sending packets - GBN sending side"
   ]
  },
  {
   "cell_type": "code",
   "execution_count": 17,
   "metadata": {},
   "outputs": [
    {
     "name": "stdout",
     "output_type": "stream",
     "text": [
      "start_timer()\n",
      "udt_send: bytearray(b'\\x01\\xfe\\xbc\\x94Hello, world!!')\n",
      "udt_send: bytearray(b'\\x01\\xff\\xbc\\x93Hello, world!!')\n",
      "udt_send: bytearray(b'\\x01\\x00\\xbd\\x92Hello, world!!')\n",
      "udt_send: bytearray(b'\\x01\\x01\\xbd\\x91Hello, world!!')\n",
      "Seq(254) Seq(2)\n",
      "sndpkt: [bytearray(b'\\x01\\xfe\\xbc\\x94Hello, world!!'), bytearray(b'\\x01\\xff\\xbc\\x93Hello, world!!'), bytearray(b'\\x01\\x00\\xbd\\x92Hello, world!!'), bytearray(b'\\x01\\x01\\xbd\\x91Hello, world!!')]\n"
     ]
    }
   ],
   "source": [
    "def make_pkt(seq, packet_type, data=b''):\n",
    "    if not isinstance(data, (bytes, bytearray)):\n",
    "        raise TypeError('data is not bytes or bytearray type')\n",
    "    packet = bytearray([packet_type, int(seq), 0, 0])  # header with zero checksum field\n",
    "    packet.extend(data)\n",
    "    checksum = ichecksum(packet)\n",
    "    packet[2:4] = bytearray([checksum >> 8, checksum & 0xFF])  # overwrite checksum\n",
    "    return packet\n",
    "\n",
    "nextseqnum = base = Seq(254)   # empty buffer\n",
    "sndpkt = []\n",
    "\n",
    "# Send 4 packets\n",
    "DATA = 1    # DATA packet type\n",
    "data = b'Hello, world!!'\n",
    "for i in range(4):\n",
    "    packet = make_pkt(nextseqnum, DATA, data)\n",
    "    sndpkt.append(packet)          # send buffer for retransmission\n",
    "    if base == nextseqnum:    # if send buffer was empty\n",
    "        print('start_timer()')\n",
    "    print('udt_send:', packet)\n",
    "    nextseqnum += 1\n",
    "\n",
    "print(base, nextseqnum)\n",
    "print('sndpkt:', sndpkt)"
   ]
  },
  {
   "cell_type": "markdown",
   "metadata": {},
   "source": [
    "### ACK handling\n",
    "Packet n을 받으면, ACK n을 feedback 하기 보다 ACK n+1 으로 응답하는 것이 보다 논리적이고 coding이 쉽다. 이 의미는 packet ..., n-1, n 은 순서대로 잘 받았고, n+1 번 packet을 받을 차례임을 sender에게 알리는 것이다. 따라서, 송신측은 항상 ACK 번호부터 retransmit하면 된다. 실제 대부분의 프로토콜들은 이렇게 정의되어 있다.\n",
    "#### GBN receiving side"
   ]
  },
  {
   "cell_type": "code",
   "execution_count": 19,
   "metadata": {},
   "outputs": [
    {
     "name": "stdout",
     "output_type": "stream",
     "text": [
      "udt_send: bytearray(b'\\x01\\xff\\xfe\\x00')\n"
     ]
    }
   ],
   "source": [
    "expectedseqnum = Seq(254)\n",
    "\n",
    "expectedseqnum += 1\n",
    "sndpkt = make_pkt(expectedseqnum, ACK)\n",
    "print('udt_send:', sndpkt)"
   ]
  },
  {
   "cell_type": "markdown",
   "metadata": {},
   "source": [
    "#### GBN sending side"
   ]
  },
  {
   "cell_type": "code",
   "execution_count": 22,
   "metadata": {},
   "outputs": [],
   "source": [
    "acknum = Seq(255)    # 255번 packet 받을 차례. 254번까지는 잘 받았음.\n",
    "for i in srange(base, acknum): # The packets < acknum already correctly received.\n",
    "    del sndpkt[0]              # So, delete packets such that self.base <= seq < acknum.\n",
    "base = acknum\n",
    "if base == nextseqnum:\n",
    "    print('stop_timer()')\n",
    "# else:\n",
    "#     self.start_timer()"
   ]
  },
  {
   "cell_type": "code",
   "execution_count": null,
   "metadata": {
    "collapsed": true
   },
   "outputs": [],
   "source": [
    "\n",
    "    "
   ]
  }
 ],
 "metadata": {
  "kernelspec": {
   "display_name": "Python 3",
   "language": "python",
   "name": "python3"
  },
  "language_info": {
   "codemirror_mode": {
    "name": "ipython",
    "version": 3
   },
   "file_extension": ".py",
   "mimetype": "text/x-python",
   "name": "python",
   "nbconvert_exporter": "python",
   "pygments_lexer": "ipython3",
   "version": "3.7.3"
  }
 },
 "nbformat": 4,
 "nbformat_minor": 2
}
